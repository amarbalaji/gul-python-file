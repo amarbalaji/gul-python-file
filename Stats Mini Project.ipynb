{
 "cells": [
  {
   "cell_type": "code",
   "execution_count": 1,
   "id": "8f50aa77",
   "metadata": {},
   "outputs": [],
   "source": [
    "\n",
    "import pandas as pd \n",
    "\n",
    "\n",
    "import numpy as np\n",
    "import seaborn as sns\n",
    "\n",
    "\n",
    "from warnings import filterwarnings\n",
    "filterwarnings('ignore')\n",
    "\n",
    "\n",
    "import statsmodels.api as sm\n",
    "from statsmodels.formula.api import ols\n",
    "from statsmodels.stats.anova import anova_lm\n",
    "\n",
    "\n",
    "from scipy import stats\n",
    "\n",
    "\n",
    "from scipy.stats import chi2_contingency\n",
    "from scipy.stats import chi2\n",
    "from scipy.stats import chisquare\n",
    "\n",
    "\n",
    "import statsmodels.stats.multicomp as mc\n"
   ]
  },
  {
   "cell_type": "code",
   "execution_count": 28,
   "id": "2999c062",
   "metadata": {},
   "outputs": [
    {
     "data": {
      "text/html": [
       "<div>\n",
       "<style scoped>\n",
       "    .dataframe tbody tr th:only-of-type {\n",
       "        vertical-align: middle;\n",
       "    }\n",
       "\n",
       "    .dataframe tbody tr th {\n",
       "        vertical-align: top;\n",
       "    }\n",
       "\n",
       "    .dataframe thead th {\n",
       "        text-align: right;\n",
       "    }\n",
       "</style>\n",
       "<table border=\"1\" class=\"dataframe\">\n",
       "  <thead>\n",
       "    <tr style=\"text-align: right;\">\n",
       "      <th></th>\n",
       "      <th>Name</th>\n",
       "      <th>Age</th>\n",
       "      <th>Nationality</th>\n",
       "      <th>Overall_rating</th>\n",
       "      <th>Potential</th>\n",
       "      <th>Club</th>\n",
       "      <th>Preferred Foot</th>\n",
       "      <th>International Reputation</th>\n",
       "      <th>Weak Foot</th>\n",
       "      <th>Skill Moves</th>\n",
       "      <th>Work Rate</th>\n",
       "      <th>Position</th>\n",
       "      <th>Jersey Number</th>\n",
       "      <th>Height</th>\n",
       "      <th>Weight</th>\n",
       "    </tr>\n",
       "  </thead>\n",
       "  <tbody>\n",
       "    <tr>\n",
       "      <th>0</th>\n",
       "      <td>L. Messi</td>\n",
       "      <td>31</td>\n",
       "      <td>Argentina</td>\n",
       "      <td>94</td>\n",
       "      <td>94</td>\n",
       "      <td>FC Barcelona</td>\n",
       "      <td>Left</td>\n",
       "      <td>5</td>\n",
       "      <td>4</td>\n",
       "      <td>4</td>\n",
       "      <td>Medium/ Medium</td>\n",
       "      <td>RF</td>\n",
       "      <td>10</td>\n",
       "      <td>5.583333</td>\n",
       "      <td>159</td>\n",
       "    </tr>\n",
       "    <tr>\n",
       "      <th>1</th>\n",
       "      <td>Cristiano Ronaldo</td>\n",
       "      <td>33</td>\n",
       "      <td>Portugal</td>\n",
       "      <td>94</td>\n",
       "      <td>94</td>\n",
       "      <td>Juventus</td>\n",
       "      <td>Right</td>\n",
       "      <td>5</td>\n",
       "      <td>4</td>\n",
       "      <td>5</td>\n",
       "      <td>High/ Low</td>\n",
       "      <td>ST</td>\n",
       "      <td>7</td>\n",
       "      <td>6.166667</td>\n",
       "      <td>183</td>\n",
       "    </tr>\n",
       "    <tr>\n",
       "      <th>2</th>\n",
       "      <td>Neymar Jr</td>\n",
       "      <td>26</td>\n",
       "      <td>Brazil</td>\n",
       "      <td>92</td>\n",
       "      <td>93</td>\n",
       "      <td>Paris Saint-Germain</td>\n",
       "      <td>Right</td>\n",
       "      <td>5</td>\n",
       "      <td>5</td>\n",
       "      <td>5</td>\n",
       "      <td>High/ Medium</td>\n",
       "      <td>LW</td>\n",
       "      <td>10</td>\n",
       "      <td>5.750000</td>\n",
       "      <td>150</td>\n",
       "    </tr>\n",
       "    <tr>\n",
       "      <th>3</th>\n",
       "      <td>De Gea</td>\n",
       "      <td>27</td>\n",
       "      <td>Spain</td>\n",
       "      <td>91</td>\n",
       "      <td>93</td>\n",
       "      <td>Manchester United</td>\n",
       "      <td>Right</td>\n",
       "      <td>4</td>\n",
       "      <td>3</td>\n",
       "      <td>1</td>\n",
       "      <td>Medium/ Medium</td>\n",
       "      <td>GK</td>\n",
       "      <td>1</td>\n",
       "      <td>6.333333</td>\n",
       "      <td>168</td>\n",
       "    </tr>\n",
       "    <tr>\n",
       "      <th>4</th>\n",
       "      <td>K. De Bruyne</td>\n",
       "      <td>27</td>\n",
       "      <td>Belgium</td>\n",
       "      <td>91</td>\n",
       "      <td>92</td>\n",
       "      <td>Manchester City</td>\n",
       "      <td>Right</td>\n",
       "      <td>4</td>\n",
       "      <td>5</td>\n",
       "      <td>4</td>\n",
       "      <td>High/ High</td>\n",
       "      <td>RCM</td>\n",
       "      <td>7</td>\n",
       "      <td>5.083333</td>\n",
       "      <td>154</td>\n",
       "    </tr>\n",
       "  </tbody>\n",
       "</table>\n",
       "</div>"
      ],
      "text/plain": [
       "                Name  Age Nationality  Overall_rating  Potential  \\\n",
       "0           L. Messi   31   Argentina              94         94   \n",
       "1  Cristiano Ronaldo   33    Portugal              94         94   \n",
       "2          Neymar Jr   26      Brazil              92         93   \n",
       "3             De Gea   27       Spain              91         93   \n",
       "4       K. De Bruyne   27     Belgium              91         92   \n",
       "\n",
       "                  Club Preferred Foot  International Reputation  Weak Foot  \\\n",
       "0         FC Barcelona           Left                         5          4   \n",
       "1             Juventus          Right                         5          4   \n",
       "2  Paris Saint-Germain          Right                         5          5   \n",
       "3    Manchester United          Right                         4          3   \n",
       "4      Manchester City          Right                         4          5   \n",
       "\n",
       "   Skill Moves       Work Rate Position  Jersey Number    Height  Weight  \n",
       "0            4  Medium/ Medium       RF             10  5.583333     159  \n",
       "1            5       High/ Low       ST              7  6.166667     183  \n",
       "2            5    High/ Medium       LW             10  5.750000     150  \n",
       "3            1  Medium/ Medium       GK              1  6.333333     168  \n",
       "4            4      High/ High      RCM              7  5.083333     154  "
      ]
     },
     "execution_count": 28,
     "metadata": {},
     "output_type": "execute_result"
    }
   ],
   "source": [
    "df=pd.read_csv('fifa_stats.csv')\n",
    "df.head()"
   ]
  },
  {
   "cell_type": "code",
   "execution_count": 29,
   "id": "97b2e293",
   "metadata": {},
   "outputs": [
    {
     "data": {
      "text/plain": [
       "Name                         0\n",
       "Age                          0\n",
       "Nationality                  0\n",
       "Overall_rating               0\n",
       "Potential                    0\n",
       "Club                        19\n",
       "Preferred Foot               0\n",
       "International Reputation     0\n",
       "Weak Foot                    0\n",
       "Skill Moves                  0\n",
       "Work Rate                    0\n",
       "Position                     0\n",
       "Jersey Number                0\n",
       "Height                       0\n",
       "Weight                       0\n",
       "dtype: int64"
      ]
     },
     "execution_count": 29,
     "metadata": {},
     "output_type": "execute_result"
    }
   ],
   "source": [
    "df.isnull().sum()"
   ]
  },
  {
   "cell_type": "code",
   "execution_count": 30,
   "id": "896a6835",
   "metadata": {},
   "outputs": [
    {
     "data": {
      "text/plain": [
       "(2000, 15)"
      ]
     },
     "execution_count": 30,
     "metadata": {},
     "output_type": "execute_result"
    }
   ],
   "source": [
    "df.shape"
   ]
  },
  {
   "cell_type": "code",
   "execution_count": 31,
   "id": "022933e2",
   "metadata": {},
   "outputs": [
    {
     "data": {
      "text/plain": [
       "Name                        0.00\n",
       "Age                         0.00\n",
       "Nationality                 0.00\n",
       "Overall_rating              0.00\n",
       "Potential                   0.00\n",
       "Club                        0.95\n",
       "Preferred Foot              0.00\n",
       "International Reputation    0.00\n",
       "Weak Foot                   0.00\n",
       "Skill Moves                 0.00\n",
       "Work Rate                   0.00\n",
       "Position                    0.00\n",
       "Jersey Number               0.00\n",
       "Height                      0.00\n",
       "Weight                      0.00\n",
       "dtype: float64"
      ]
     },
     "execution_count": 31,
     "metadata": {},
     "output_type": "execute_result"
    }
   ],
   "source": [
    "df.isnull().sum()/len(df) *100"
   ]
  },
  {
   "cell_type": "code",
   "execution_count": 32,
   "id": "f924303e",
   "metadata": {},
   "outputs": [],
   "source": [
    "df.dropna(inplace=True)"
   ]
  },
  {
   "cell_type": "markdown",
   "id": "73156936",
   "metadata": {},
   "source": [
    "####  a)\tAssuming age as population, perform the central limit theorem with sample size of 200. Find the standard error and the mean of sampling distribution. Compare the results with population mean and standard deviation. Explain in non-technical terms why the estimated standard error of a sample mean tends to decrease with an increase in sample size"
   ]
  },
  {
   "cell_type": "code",
   "execution_count": 35,
   "id": "02b84fab",
   "metadata": {},
   "outputs": [
    {
     "data": {
      "text/plain": [
       "1168    28\n",
       "1887    28\n",
       "1867    31\n",
       "1850    30\n",
       "863     30\n",
       "        ..\n",
       "668     28\n",
       "1991    23\n",
       "1626    32\n",
       "669     27\n",
       "1679    27\n",
       "Name: Age, Length: 200, dtype: int64"
      ]
     },
     "execution_count": 35,
     "metadata": {},
     "output_type": "execute_result"
    }
   ],
   "source": [
    "samp= df['Age'].sample(n=200)\n",
    "samp"
   ]
  },
  {
   "cell_type": "code",
   "execution_count": 36,
   "id": "453d85e0",
   "metadata": {},
   "outputs": [
    {
     "name": "stdout",
     "output_type": "stream",
     "text": [
      "sample mean  27.215\n",
      "sample std  0.2756698659628941\n"
     ]
    }
   ],
   "source": [
    "samp_mean=np.mean(samp)\n",
    "std_err= np.std(samp)/np.sqrt(200)\n",
    "print('sample mean ',samp_mean)\n",
    "print('sample std ',std_err)"
   ]
  },
  {
   "cell_type": "code",
   "execution_count": 37,
   "id": "ce47441a",
   "metadata": {},
   "outputs": [
    {
     "name": "stdout",
     "output_type": "stream",
     "text": [
      "population mean 27.215547703180214\n",
      "population standard deviation 3.8525185996930396\n"
     ]
    }
   ],
   "source": [
    "pop_mean=df['Age'].mean()\n",
    "pop_std=df['Age'].std()\n",
    "print('population mean',pop_mean)\n",
    "print('population standard deviation',pop_std)"
   ]
  },
  {
   "cell_type": "markdown",
   "id": "189548bc",
   "metadata": {},
   "source": [
    "As the sample size increases the distribution tends to normal distribution."
   ]
  },
  {
   "cell_type": "markdown",
   "id": "c54d500f",
   "metadata": {},
   "source": [
    "#### b)\tIs there any evidence that the players overall rating is greater than 80?"
   ]
  },
  {
   "cell_type": "code",
   "execution_count": 34,
   "id": "04e5423c",
   "metadata": {},
   "outputs": [
    {
     "data": {
      "text/plain": [
       "0       94\n",
       "1       94\n",
       "2       92\n",
       "3       91\n",
       "4       91\n",
       "        ..\n",
       "1995    75\n",
       "1996    75\n",
       "1997    75\n",
       "1998    75\n",
       "1999    75\n",
       "Name: Overall_rating, Length: 2000, dtype: int64"
      ]
     },
     "execution_count": 34,
     "metadata": {},
     "output_type": "execute_result"
    }
   ],
   "source": [
    "df['Overall_rating']"
   ]
  },
  {
   "cell_type": "code",
   "execution_count": 38,
   "id": "33d55260",
   "metadata": {
    "scrolled": true
   },
   "outputs": [
    {
     "name": "stdout",
     "output_type": "stream",
     "text": [
      "players overall rating is greater than 80:  0.29361212253444613\n"
     ]
    }
   ],
   "source": [
    "loc=df['Overall_rating'].mean()\n",
    "scale=df['Overall_rating'].std()\n",
    "\n",
    "print('players overall rating is greater than 80: ',stats.norm.sf(80,loc=loc ,scale=scale))"
   ]
  },
  {
   "cell_type": "markdown",
   "id": "38237b73",
   "metadata": {},
   "source": [
    "According to this data, there is 29% chance is there to the rating to be greater than 80."
   ]
  },
  {
   "cell_type": "markdown",
   "id": "b34d01ed",
   "metadata": {},
   "source": [
    "#### c)\tPerform the statistical test to identify whether preferred foot has any impact on potential. Also, perform the graphical analysis."
   ]
  },
  {
   "cell_type": "code",
   "execution_count": 39,
   "id": "f5f9c428",
   "metadata": {},
   "outputs": [],
   "source": [
    "right=df[df['Preferred Foot']=='Right']['Potential']\n",
    "left=df[df['Preferred Foot']=='Left']['Potential']"
   ]
  },
  {
   "cell_type": "code",
   "execution_count": 40,
   "id": "b6dadb3a",
   "metadata": {},
   "outputs": [
    {
     "data": {
      "text/plain": [
       "<AxesSubplot:xlabel='Potential', ylabel='Density'>"
      ]
     },
     "execution_count": 40,
     "metadata": {},
     "output_type": "execute_result"
    },
    {
     "data": {
      "image/png": "[encoded data removed]",
      "text/plain": [
       "<Figure size 432x288 with 1 Axes>"
      ]
     },
     "metadata": {
      "needs_background": "light"
     },
     "output_type": "display_data"
    }
   ],
   "source": [
    "sns.distplot(right)\n",
    "sns.distplot(left)"
   ]
  },
  {
   "cell_type": "code",
   "execution_count": 103,
   "id": "2c6e9b0b",
   "metadata": {},
   "outputs": [
    {
     "name": "stdout",
     "output_type": "stream",
     "text": [
      "ShapiroResult(statistic=0.9369121193885803, pvalue=5.342442151473519e-25)\n",
      "ShapiroResult(statistic=0.9422042369842529, pvalue=1.7173475098594682e-12)\n"
     ]
    }
   ],
   "source": [
    "# checking the normality\n",
    "\n",
    "# h0: data is normal\n",
    "# h1: data is not normal\n",
    "\n",
    "print(stats.shapiro(right))\n",
    "print(stats.shapiro(left))"
   ]
  },
  {
   "cell_type": "markdown",
   "id": "3e5afadf",
   "metadata": {},
   "source": [
    "assuming, data is normal we perform equal variance test."
   ]
  },
  {
   "cell_type": "code",
   "execution_count": 41,
   "id": "b31f33b3",
   "metadata": {},
   "outputs": [
    {
     "name": "stdout",
     "output_type": "stream",
     "text": [
      "LeveneResult(statistic=1.5665635192734586, pvalue=0.2108546965781491)\n"
     ]
    }
   ],
   "source": [
    "# checking variance\n",
    "\n",
    "# h0: data has equal variance\n",
    "# h1: data doesnt have equal variance\n",
    "\n",
    "print(stats.levene(right,left))"
   ]
  },
  {
   "cell_type": "markdown",
   "id": "f47148ca",
   "metadata": {},
   "source": [
    "the p value is greater than alpha value and accept null value. Our null value specify that data has\n",
    "equal variance"
   ]
  },
  {
   "cell_type": "code",
   "execution_count": 42,
   "id": "d5b050d3",
   "metadata": {},
   "outputs": [],
   "source": [
    "# h0: preferred foot has no impact on potential\n",
    "# h1: preferred foot has impact on potential"
   ]
  },
  {
   "cell_type": "code",
   "execution_count": 43,
   "id": "03e415de",
   "metadata": {
    "scrolled": false
   },
   "outputs": [
    {
     "name": "stdout",
     "output_type": "stream",
     "text": [
      "F_onewayResult(statistic=2.6621845772621833, pvalue=0.10291861885209323)\n"
     ]
    }
   ],
   "source": [
    "print(stats.f_oneway(right,left))"
   ]
  },
  {
   "cell_type": "markdown",
   "id": "1df82dff",
   "metadata": {},
   "source": [
    "here the p value is greater than alpha value, so we fail to reject the null and we can say that preferred foot has no \n",
    "impact on potential."
   ]
  },
  {
   "cell_type": "markdown",
   "id": "b0edd940",
   "metadata": {},
   "source": [
    "#### d)\tPerform the statistical test to identify the relation between the overall rating and potential. [Assume both are continuous data points]."
   ]
  },
  {
   "cell_type": "code",
   "execution_count": 44,
   "id": "74fbcc07",
   "metadata": {},
   "outputs": [
    {
     "name": "stdout",
     "output_type": "stream",
     "text": [
      "(0.732085835890994, 0.0)\n"
     ]
    }
   ],
   "source": [
    "print(stats.pearsonr(df['Overall_rating'],df['Potential']))"
   ]
  },
  {
   "cell_type": "markdown",
   "id": "68e59535",
   "metadata": {},
   "source": [
    "here the correlation value is 0.73, so we can assume that the Overall rating and potential are highly positively correlated."
   ]
  },
  {
   "cell_type": "markdown",
   "id": "ff1b4be0",
   "metadata": {},
   "source": [
    "#### e)\tDoes skill move have any effect in overall rating? Perform the graphical analysis and the statistical analysis"
   ]
  },
  {
   "cell_type": "code",
   "execution_count": 45,
   "id": "98f3d968",
   "metadata": {},
   "outputs": [
    {
     "data": {
      "text/plain": [
       "3    818\n",
       "4    540\n",
       "2    392\n",
       "1    192\n",
       "5     39\n",
       "Name: Skill Moves, dtype: int64"
      ]
     },
     "execution_count": 45,
     "metadata": {},
     "output_type": "execute_result"
    }
   ],
   "source": [
    "df['Skill Moves'].value_counts()"
   ]
  },
  {
   "cell_type": "code",
   "execution_count": 46,
   "id": "3f0be60d",
   "metadata": {
    "scrolled": true
   },
   "outputs": [
    {
     "data": {
      "text/plain": [
       "<AxesSubplot:xlabel='Skill Moves', ylabel='Overall_rating'>"
      ]
     },
     "execution_count": 46,
     "metadata": {},
     "output_type": "execute_result"
    },
    {
     "data": {
      "image/png": "[encoded data removed]",
      "text/plain": [
       "<Figure size 432x288 with 1 Axes>"
      ]
     },
     "metadata": {
      "needs_background": "light"
     },
     "output_type": "display_data"
    }
   ],
   "source": [
    "sns.boxplot(df['Skill Moves'],df['Overall_rating'])"
   ]
  },
  {
   "cell_type": "code",
   "execution_count": 47,
   "id": "cd63bfec",
   "metadata": {
    "scrolled": true
   },
   "outputs": [
    {
     "name": "stdout",
     "output_type": "stream",
     "text": [
      "(0.08303643058332785, 0.00021570230856720446)\n"
     ]
    }
   ],
   "source": [
    "print(stats.pearsonr(df['Skill Moves'],df['Overall_rating']))"
   ]
  },
  {
   "cell_type": "markdown",
   "id": "c962ff19",
   "metadata": {},
   "source": [
    "While performing correlation we can identify that skill move and overall rating have lesser relation with each other."
   ]
  },
  {
   "cell_type": "code",
   "execution_count": 48,
   "id": "b48e6cf5",
   "metadata": {},
   "outputs": [
    {
     "data": {
      "text/html": [
       "<div>\n",
       "<style scoped>\n",
       "    .dataframe tbody tr th:only-of-type {\n",
       "        vertical-align: middle;\n",
       "    }\n",
       "\n",
       "    .dataframe tbody tr th {\n",
       "        vertical-align: top;\n",
       "    }\n",
       "\n",
       "    .dataframe thead th {\n",
       "        text-align: right;\n",
       "    }\n",
       "</style>\n",
       "<table border=\"1\" class=\"dataframe\">\n",
       "  <thead>\n",
       "    <tr style=\"text-align: right;\">\n",
       "      <th></th>\n",
       "      <th>date</th>\n",
       "      <th>duration</th>\n",
       "      <th>item</th>\n",
       "      <th>month</th>\n",
       "      <th>network</th>\n",
       "      <th>network_type</th>\n",
       "    </tr>\n",
       "  </thead>\n",
       "  <tbody>\n",
       "    <tr>\n",
       "      <th>0</th>\n",
       "      <td>15-10-14 6:58</td>\n",
       "      <td>221.321120</td>\n",
       "      <td>data</td>\n",
       "      <td>2014-11</td>\n",
       "      <td>data</td>\n",
       "      <td>data</td>\n",
       "    </tr>\n",
       "    <tr>\n",
       "      <th>1</th>\n",
       "      <td>15-10-14 6:58</td>\n",
       "      <td>81.610599</td>\n",
       "      <td>call</td>\n",
       "      <td>2014-11</td>\n",
       "      <td>Vodafone</td>\n",
       "      <td>mobile</td>\n",
       "    </tr>\n",
       "    <tr>\n",
       "      <th>2</th>\n",
       "      <td>15-10-14 14:46</td>\n",
       "      <td>143.109111</td>\n",
       "      <td>call</td>\n",
       "      <td>2014-11</td>\n",
       "      <td>Meteor</td>\n",
       "      <td>mobile</td>\n",
       "    </tr>\n",
       "    <tr>\n",
       "      <th>3</th>\n",
       "      <td>15-10-14 14:48</td>\n",
       "      <td>111.888670</td>\n",
       "      <td>call</td>\n",
       "      <td>2014-11</td>\n",
       "      <td>Tesco</td>\n",
       "      <td>mobile</td>\n",
       "    </tr>\n",
       "    <tr>\n",
       "      <th>4</th>\n",
       "      <td>15-10-14 17:27</td>\n",
       "      <td>246.695171</td>\n",
       "      <td>call</td>\n",
       "      <td>2014-11</td>\n",
       "      <td>Tesco</td>\n",
       "      <td>mobile</td>\n",
       "    </tr>\n",
       "    <tr>\n",
       "      <th>...</th>\n",
       "      <td>...</td>\n",
       "      <td>...</td>\n",
       "      <td>...</td>\n",
       "      <td>...</td>\n",
       "      <td>...</td>\n",
       "      <td>...</td>\n",
       "    </tr>\n",
       "    <tr>\n",
       "      <th>815</th>\n",
       "      <td>10-03-15 6:58</td>\n",
       "      <td>185.328156</td>\n",
       "      <td>data</td>\n",
       "      <td>2015-03</td>\n",
       "      <td>data</td>\n",
       "      <td>data</td>\n",
       "    </tr>\n",
       "    <tr>\n",
       "      <th>816</th>\n",
       "      <td>11-03-15 6:58</td>\n",
       "      <td>89.819383</td>\n",
       "      <td>data</td>\n",
       "      <td>2015-03</td>\n",
       "      <td>data</td>\n",
       "      <td>data</td>\n",
       "    </tr>\n",
       "    <tr>\n",
       "      <th>817</th>\n",
       "      <td>12-03-15 6:58</td>\n",
       "      <td>117.604998</td>\n",
       "      <td>data</td>\n",
       "      <td>2015-03</td>\n",
       "      <td>data</td>\n",
       "      <td>data</td>\n",
       "    </tr>\n",
       "    <tr>\n",
       "      <th>818</th>\n",
       "      <td>13-03-15 0:39</td>\n",
       "      <td>77.834006</td>\n",
       "      <td>sms</td>\n",
       "      <td>2015-03</td>\n",
       "      <td>Vodafone</td>\n",
       "      <td>mobile</td>\n",
       "    </tr>\n",
       "    <tr>\n",
       "      <th>819</th>\n",
       "      <td>13-03-15 6:58</td>\n",
       "      <td>146.000584</td>\n",
       "      <td>data</td>\n",
       "      <td>2015-03</td>\n",
       "      <td>data</td>\n",
       "      <td>data</td>\n",
       "    </tr>\n",
       "  </tbody>\n",
       "</table>\n",
       "<p>820 rows × 6 columns</p>\n",
       "</div>"
      ],
      "text/plain": [
       "               date    duration  item    month   network network_type\n",
       "0     15-10-14 6:58  221.321120  data  2014-11      data         data\n",
       "1     15-10-14 6:58   81.610599  call  2014-11  Vodafone       mobile\n",
       "2    15-10-14 14:46  143.109111  call  2014-11    Meteor       mobile\n",
       "3    15-10-14 14:48  111.888670  call  2014-11     Tesco       mobile\n",
       "4    15-10-14 17:27  246.695171  call  2014-11     Tesco       mobile\n",
       "..              ...         ...   ...      ...       ...          ...\n",
       "815   10-03-15 6:58  185.328156  data  2015-03      data         data\n",
       "816   11-03-15 6:58   89.819383  data  2015-03      data         data\n",
       "817   12-03-15 6:58  117.604998  data  2015-03      data         data\n",
       "818   13-03-15 0:39   77.834006   sms  2015-03  Vodafone       mobile\n",
       "819   13-03-15 6:58  146.000584  data  2015-03      data         data\n",
       "\n",
       "[820 rows x 6 columns]"
      ]
     },
     "execution_count": 48,
     "metadata": {},
     "output_type": "execute_result"
    }
   ],
   "source": [
    "df1=pd.read_csv('phone.csv')\n",
    "df1"
   ]
  },
  {
   "cell_type": "code",
   "execution_count": 49,
   "id": "6c774f27",
   "metadata": {},
   "outputs": [
    {
     "data": {
      "text/plain": [
       "date            0\n",
       "duration        0\n",
       "item            0\n",
       "month           0\n",
       "network         0\n",
       "network_type    0\n",
       "dtype: int64"
      ]
     },
     "execution_count": 49,
     "metadata": {},
     "output_type": "execute_result"
    }
   ],
   "source": [
    "df1.isnull().sum()"
   ]
  },
  {
   "cell_type": "markdown",
   "id": "fad495c1",
   "metadata": {},
   "source": [
    "#### a) With 95% & 99% Confidence Interval, find the range estimate of average duration calls made by the entire network. Which of the Intervals are wider? Interpret the results."
   ]
  },
  {
   "cell_type": "code",
   "execution_count": 50,
   "id": "0122ac3d",
   "metadata": {},
   "outputs": [],
   "source": [
    "loc=df1.duration.mean()\n",
    "scale=df1.duration.std()"
   ]
  },
  {
   "cell_type": "code",
   "execution_count": 51,
   "id": "8debff74",
   "metadata": {},
   "outputs": [
    {
     "name": "stdout",
     "output_type": "stream",
     "text": [
      "(54.75853844773455, 233.85133267193635)\n"
     ]
    }
   ],
   "source": [
    "# 95% confidence Interval\n",
    "\n",
    "print(stats.norm.interval(.95,loc=loc,scale=scale))"
   ]
  },
  {
   "cell_type": "code",
   "execution_count": 52,
   "id": "702837ce",
   "metadata": {},
   "outputs": [
    {
     "name": "stdout",
     "output_type": "stream",
     "text": [
      "(26.621021198161927, 261.988849921509)\n"
     ]
    }
   ],
   "source": [
    "# 99 % confidence interval\n",
    "\n",
    "print(stats.norm.interval(.99,loc=loc,scale=scale))"
   ]
  },
  {
   "cell_type": "markdown",
   "id": "d1b64c93",
   "metadata": {},
   "source": [
    "99 % is the wider interval compared to 95%."
   ]
  },
  {
   "cell_type": "markdown",
   "id": "cc89242c",
   "metadata": {},
   "source": [
    "#### b) Perform statistical analysis to check whether the networks are equally distributed in the dataset."
   ]
  },
  {
   "cell_type": "code",
   "execution_count": 53,
   "id": "34a78b05",
   "metadata": {},
   "outputs": [],
   "source": [
    "# h0: data is normal\n",
    "# h1: data is not normal"
   ]
  },
  {
   "cell_type": "code",
   "execution_count": 54,
   "id": "5e0cd8bb",
   "metadata": {},
   "outputs": [
    {
     "data": {
      "text/plain": [
       "ShapiroResult(statistic=0.8885776400566101, pvalue=0.26732590794563293)"
      ]
     },
     "execution_count": 54,
     "metadata": {},
     "output_type": "execute_result"
    }
   ],
   "source": [
    "stats.shapiro(df1.network.value_counts())"
   ]
  },
  {
   "cell_type": "markdown",
   "id": "9c5df9b9",
   "metadata": {},
   "source": [
    "here p value is greater than alpha value, so we conclude that data is normal"
   ]
  },
  {
   "cell_type": "markdown",
   "id": "298298cb",
   "metadata": {},
   "source": [
    "#### c) Plot the distribution of duration with respect to each network in the same graph and interpret the results from the graph."
   ]
  },
  {
   "cell_type": "code",
   "execution_count": 55,
   "id": "f5ea2f58",
   "metadata": {},
   "outputs": [
    {
     "data": {
      "text/plain": [
       "network\n",
       "Meteor       12158.860017\n",
       "Tesco        12204.150333\n",
       "Three        30413.457328\n",
       "Vodafone     32165.348426\n",
       "data         21145.296417\n",
       "landline      5947.940920\n",
       "voicemail     4294.993719\n",
       "Name: duration, dtype: float64"
      ]
     },
     "execution_count": 55,
     "metadata": {},
     "output_type": "execute_result"
    }
   ],
   "source": [
    "a= df1.groupby(df1['network'])['duration'].sum()\n",
    "a"
   ]
  },
  {
   "cell_type": "code",
   "execution_count": 56,
   "id": "f4717ad3",
   "metadata": {},
   "outputs": [
    {
     "data": {
      "text/plain": [
       "<AxesSubplot:xlabel='network', ylabel='duration'>"
      ]
     },
     "execution_count": 56,
     "metadata": {},
     "output_type": "execute_result"
    },
    {
     "data": {
      "image/png": "[encoded data removed]",
      "text/plain": [
       "<Figure size 432x288 with 1 Axes>"
      ]
     },
     "metadata": {
      "needs_background": "light"
     },
     "output_type": "display_data"
    }
   ],
   "source": [
    "sns.barplot(a.index,a)"
   ]
  },
  {
   "cell_type": "markdown",
   "id": "bc82bdcc",
   "metadata": {},
   "source": [
    "From this diagram we can conclude that vodafone and three has most duration."
   ]
  },
  {
   "cell_type": "markdown",
   "id": "72246f45",
   "metadata": {},
   "source": [
    "#### d)\tPerform statistical tests to identify the relation between item and duration. Detailed explanation of relation between the classes is required."
   ]
  },
  {
   "cell_type": "code",
   "execution_count": 91,
   "id": "767ae2e9",
   "metadata": {},
   "outputs": [],
   "source": [
    "data=df1[df1['item']=='data']['duration']\n",
    "call=df1[df1['item']=='call']['duration']\n",
    "sms=df1[df1['item']=='sms']['duration']"
   ]
  },
  {
   "cell_type": "code",
   "execution_count": 92,
   "id": "a5ce85f4",
   "metadata": {},
   "outputs": [
    {
     "name": "stdout",
     "output_type": "stream",
     "text": [
      "ShapiroResult(statistic=0.9912639856338501, pvalue=0.48521795868873596)\n",
      "ShapiroResult(statistic=0.9973042011260986, pvalue=0.7803382277488708)\n",
      "ShapiroResult(statistic=0.9943404197692871, pvalue=0.37839275598526)\n"
     ]
    }
   ],
   "source": [
    "print(stats.shapiro(data))\n",
    "print(stats.shapiro(call))\n",
    "print(stats.shapiro(sms))"
   ]
  },
  {
   "cell_type": "code",
   "execution_count": 93,
   "id": "bd65f409",
   "metadata": {},
   "outputs": [
    {
     "name": "stdout",
     "output_type": "stream",
     "text": [
      "LeveneResult(statistic=3.4300976447008478, pvalue=0.03285087780533987)\n"
     ]
    }
   ],
   "source": [
    "print(stats.levene(data,call,sms))"
   ]
  },
  {
   "cell_type": "code",
   "execution_count": null,
   "id": "bac78c46",
   "metadata": {},
   "outputs": [],
   "source": [
    "# h0: item and duration is independent\n",
    "# h1: item and duration is dependent"
   ]
  },
  {
   "cell_type": "code",
   "execution_count": 94,
   "id": "94af6abe",
   "metadata": {
    "scrolled": true
   },
   "outputs": [
    {
     "name": "stdout",
     "output_type": "stream",
     "text": [
      "F_onewayResult(statistic=1.9313964906864995, pvalue=0.1456068656611744)\n"
     ]
    }
   ],
   "source": [
    "print(stats.f_oneway(data,call,sms))"
   ]
  },
  {
   "cell_type": "markdown",
   "id": "a26ede9f",
   "metadata": {},
   "source": [
    "from the test result we can say that p value is greater than alpha value,so we accept the null which means they are independent."
   ]
  },
  {
   "cell_type": "markdown",
   "id": "c608eba1",
   "metadata": {},
   "source": [
    "#### e)\tPerform statistical tests to identify the relation between network and network_type"
   ]
  },
  {
   "cell_type": "code",
   "execution_count": 97,
   "id": "dcc78e80",
   "metadata": {},
   "outputs": [
    {
     "data": {
      "text/plain": [
       "array([[  0,   0,  87,   0],\n",
       "       [  0,   0,  84,   0],\n",
       "       [  0,   0, 215,   0],\n",
       "       [  0,   0, 215,   0],\n",
       "       [150,   0,   0,   0],\n",
       "       [  0,  42,   0,   0],\n",
       "       [  0,   0,   0,  27]], dtype=int64)"
      ]
     },
     "execution_count": 97,
     "metadata": {},
     "output_type": "execute_result"
    }
   ],
   "source": [
    "table=pd.crosstab(df1['network'],df1['network_type'])\n",
    "observed=table.values\n",
    "observed"
   ]
  },
  {
   "cell_type": "code",
   "execution_count": null,
   "id": "dafbf6ab",
   "metadata": {},
   "outputs": [],
   "source": [
    "# h0: network and network_type is independet\n",
    "# h1: network and network_type is dependent"
   ]
  },
  {
   "cell_type": "code",
   "execution_count": 98,
   "id": "14269d5b",
   "metadata": {
    "scrolled": true
   },
   "outputs": [
    {
     "data": {
      "text/plain": [
       "(2460.0,\n",
       " 0.0,\n",
       " 18,\n",
       " array([[ 15.91463415,   4.45609756,  63.76463415,   2.86463415],\n",
       "        [ 15.36585366,   4.30243902,  61.56585366,   2.76585366],\n",
       "        [ 39.32926829,  11.01219512, 157.57926829,   7.07926829],\n",
       "        [ 39.32926829,  11.01219512, 157.57926829,   7.07926829],\n",
       "        [ 27.43902439,   7.68292683, 109.93902439,   4.93902439],\n",
       "        [  7.68292683,   2.15121951,  30.78292683,   1.38292683],\n",
       "        [  4.93902439,   1.38292683,  19.78902439,   0.88902439]]))"
      ]
     },
     "execution_count": 98,
     "metadata": {},
     "output_type": "execute_result"
    }
   ],
   "source": [
    "stats.chi2_contingency(observed=observed,correction=False)"
   ]
  },
  {
   "cell_type": "code",
   "execution_count": null,
   "id": "5fbfd174",
   "metadata": {},
   "outputs": [],
   "source": [
    "here p value is less than alpha value, so we accept the alternate hypothesis."
   ]
  }
 ],
 "metadata": {
  "kernelspec": {
   "display_name": "Python 3 (ipykernel)",
   "language": "python",
   "name": "python3"
  },
  "language_info": {
   "codemirror_mode": {
    "name": "ipython",
    "version": 3
   },
   "file_extension": ".py",
   "mimetype": "text/x-python",
   "name": "python",
   "nbconvert_exporter": "python",
   "pygments_lexer": "ipython3",
   "version": "3.9.7"
  }
 },
 "nbformat": 4,
 "nbformat_minor": 5
}
